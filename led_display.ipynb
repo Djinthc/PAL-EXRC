{
 "cells": [
  {
   "cell_type": "code",
   "execution_count": 1,
   "metadata": {},
   "outputs": [
    {
     "name": "stdout",
     "output_type": "stream",
     "text": [
      " #  ### ### # # ### ### ### ### ### ### \n",
      " #    #   # # # #   #     # # # # # # # \n",
      " #  ### ### ### ### ###   # ### ### # # \n",
      " #  #     #   #   # # #   # # #   # # # \n",
      " #  ### ###   # ### ###   # ### ### ### \n",
      "\n"
     ]
    }
   ],
   "source": [
    "def LED(number):\n",
    "    patterns = [' # \\n # \\n # \\n # \\n # ',    '###\\n  #\\n###\\n#  \\n###',\n",
    "                '###\\n  #\\n###\\n  #\\n###',    '# #\\n# #\\n###\\n  #\\n  #',\n",
    "                '###\\n#  \\n###\\n  #\\n###',    '###\\n#  \\n###\\n# #\\n###',\n",
    "                '###\\n  #\\n  #\\n  #\\n  #',    '###\\n# #\\n###\\n# #\\n###',\n",
    "                '###\\n# #\\n###\\n  #\\n###',    '###\\n# #\\n# #\\n# #\\n###',\n",
    "                ]\n",
    "    numbers = str(number)\n",
    "    mixe = []\n",
    "    result = ''\n",
    "    for i in numbers:\n",
    "        x1i,x2i,x3i,x4i,x5i = patterns[int(i)-1].split(sep='\\n')\n",
    "        word = [x1i,x2i,x3i,x4i,x5i]\n",
    "        mixe.append(word)\n",
    "    for i in range(len(mixe[0])):\n",
    "        for j in range(len(mixe)):\n",
    "              result += mixe[j][i]+' '\n",
    "        result += '\\n'\n",
    "            \n",
    "    \n",
    "    print(result)\n",
    "\n",
    "\n",
    "\n",
    "LED(1234567890)"
   ]
  },
  {
   "cell_type": "code",
   "execution_count": null,
   "metadata": {},
   "outputs": [],
   "source": []
  }
 ],
 "metadata": {
  "kernelspec": {
   "display_name": "Python 3.10.2 64-bit",
   "language": "python",
   "name": "python3"
  },
  "language_info": {
   "codemirror_mode": {
    "name": "ipython",
    "version": 3
   },
   "file_extension": ".py",
   "mimetype": "text/x-python",
   "name": "python",
   "nbconvert_exporter": "python",
   "pygments_lexer": "ipython3",
   "version": "3.10.2"
  },
  "orig_nbformat": 4,
  "vscode": {
   "interpreter": {
    "hash": "fa0378a400d2c47a94a4e4d6ae91e72aa2c277274644bc9209ed27c55052cbb1"
   }
  }
 },
 "nbformat": 4,
 "nbformat_minor": 2
}
